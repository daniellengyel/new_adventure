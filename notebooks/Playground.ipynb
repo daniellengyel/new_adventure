{
 "cells": [
  {
   "cell_type": "code",
   "execution_count": 2,
   "metadata": {},
   "outputs": [
    {
     "name": "stdout",
     "output_type": "stream",
     "text": [
      "The autoreload extension is already loaded. To reload it, use:\n",
      "  %reload_ext autoreload\n"
     ]
    }
   ],
   "source": [
    "import new_adventure as na\n",
    "import new_adventure.derivative_free_estimation as dfe\n",
    "import numpy as np\n",
    "import matplotlib.pyplot as plt\n",
    "import time\n",
    "\n",
    "import numpy as np\n",
    "import time\n",
    "\n",
    "import multiprocessing\n",
    "from os import getpid\n",
    "\n",
    "%load_ext autoreload\n",
    "%autoreload 2\n"
   ]
  },
  {
   "cell_type": "code",
   "execution_count": 49,
   "metadata": {},
   "outputs": [],
   "source": [
    "def new_beta_second_shift_estimator(F, x_0, alpha, N, control_variate=True, num_processes=1):\n",
    "\n",
    "    def process_task(process_N, L_sample_points, L_grads, pid):\n",
    "        # Notice, we should be sharing the radius. So some lock is probably needed to synchronise \n",
    "        sample_points = dfe.hit_run(x_0, F, x_0.shape[0], process_N, alpha)\n",
    "        out_grads = F.f1(sample_points)\n",
    "        L_sample_points.append(sample_points)\n",
    "        L_grads.append(out_grads)\n",
    "\n",
    "    with multiprocessing.Manager() as manager:\n",
    "        L_sample_points = manager.list()\n",
    "        L_grads = manager.list()\n",
    "        for i in range(num_processes):\n",
    "            p = multiprocessing.Process(target=process_task, args=(N // num_processes, L_sample_points, L_grads, i))\n",
    "            p.start()\n",
    "            p.join()\n",
    "\n",
    "        sample_points = np.vstack(list(L_sample_points))\n",
    "        out_grads = np.vstack(list(L_grads))\n",
    "\n",
    "    second_shift_est = dfe.new_proper_cov(sample_points, out_grads)\n",
    "    return second_shift_est.dot(np.linalg.inv(dfe.np_new_cov(sample_points)))"
   ]
  },
  {
   "cell_type": "code",
   "execution_count": 54,
   "metadata": {},
   "outputs": [],
   "source": [
    "np.random.seed(10)\n",
    "dim = 5000\n",
    "num_barriers = dim * 2\n",
    "dirs = np.random.normal(size=(num_barriers, dim)) # sample gaussian and normalize \n",
    "ws = dirs/np.linalg.norm(dirs, axis=1).reshape(-1, 1)\n",
    "bs = np.ones(num_barriers)\n",
    "\n",
    "barrier = na.Barriers.LogPolytopeBarrier(ws, bs)\n",
    "\n",
    "F = na.Functions.Linear(np.ones(dim))\n",
    "\n",
    "F = barrier # na.Functions.LinearCombination(F, barrier, [1, 1])"
   ]
  },
  {
   "cell_type": "code",
   "execution_count": null,
   "metadata": {},
   "outputs": [
    {
     "name": "stdout",
     "output_type": "stream",
     "text": [
      "62.857404947280884\n"
     ]
    }
   ],
   "source": [
    "xs = np.ones(dim) / np.linalg.norm(np.ones(dim))\n",
    "\n",
    "a = time.time()\n",
    "new_beta_second_shift_estimator(F, xs, 200, 2500, control_variate=True)\n",
    "print(time.time() - a)\n",
    "\n",
    "a = time.time()\n",
    "new_beta_second_shift_estimator(F, xs, 200, 2500, control_variate=True, num_processes=10)\n",
    "print(time.time() - a)"
   ]
  },
  {
   "cell_type": "code",
   "execution_count": 52,
   "metadata": {},
   "outputs": [
    {
     "data": {
      "text/plain": [
       "array([[ 2.04657718,  0.06195903,  0.01523212, ..., -0.04717341,\n",
       "         0.07388959, -0.13664766],\n",
       "       [ 0.06170182,  2.03244957, -0.10863438, ..., -0.01839577,\n",
       "         0.10105179, -0.19522663],\n",
       "       [ 0.01925689, -0.10880495,  2.07177371, ..., -0.04647866,\n",
       "        -0.05948505, -0.06567129],\n",
       "       ...,\n",
       "       [-0.04851404, -0.01977485, -0.04509338, ...,  1.96665647,\n",
       "         0.01855206, -0.01992453],\n",
       "       [ 0.07666633,  0.09941025, -0.05855921, ...,  0.01526542,\n",
       "         1.93963773,  0.01887988],\n",
       "       [-0.13735084, -0.19386065, -0.0634109 , ..., -0.02254701,\n",
       "         0.0241202 ,  1.9790937 ]])"
      ]
     },
     "execution_count": 52,
     "metadata": {},
     "output_type": "execute_result"
    }
   ],
   "source": [
    "dfe.new_beta_second_shift_estimator(F, xs, 200, 2500, control_variate=True)"
   ]
  },
  {
   "cell_type": "code",
   "execution_count": null,
   "metadata": {},
   "outputs": [],
   "source": []
  }
 ],
 "metadata": {
  "kernelspec": {
   "display_name": "Python3 (new_adv)",
   "language": "python",
   "name": "new_adv"
  },
  "language_info": {
   "codemirror_mode": {
    "name": "ipython",
    "version": 3
   },
   "file_extension": ".py",
   "mimetype": "text/x-python",
   "name": "python",
   "nbconvert_exporter": "python",
   "pygments_lexer": "ipython3",
   "version": "3.6.8"
  }
 },
 "nbformat": 4,
 "nbformat_minor": 2
}
