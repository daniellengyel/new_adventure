{
 "cells": [
  {
   "cell_type": "code",
   "execution_count": 37,
   "metadata": {},
   "outputs": [
    {
     "name": "stdout",
     "output_type": "stream",
     "text": [
      "The autoreload extension is already loaded. To reload it, use:\n",
      "  %reload_ext autoreload\n"
     ]
    }
   ],
   "source": [
    "import new_adventure as na\n",
    "import new_adventure.derivative_free_estimation as dfe\n",
    "import numpy as np\n",
    "import matplotlib.pyplot as plt\n",
    "import time\n",
    "\n",
    "import numpy as np\n",
    "import time\n",
    "\n",
    "import multiprocessing\n",
    "from os import getpid\n",
    "\n",
    "%load_ext autoreload\n",
    "%autoreload 2\n"
   ]
  },
  {
   "cell_type": "code",
   "execution_count": 5,
   "metadata": {},
   "outputs": [],
   "source": [
    "def f(i):\n",
    "    print(i)\n",
    "    return 1\n",
    "\n",
    "def multi_second_shift_estimator_task(x_0, F, process_N, alpha, L_sample_points, L_grads, pid):\n",
    "    x_0 = np.ones(dim) / np.linalg.norm(np.ones(dim))\n",
    "    # Notice, we should be sharing the radius. So some lock is probably needed to synchronise \n",
    "    sample_points = dfe.hit_run(x_0, F, x_0.shape[0], process_N, alpha)\n",
    "    out_grads = F.f1(sample_points)\n",
    "    L_sample_points.append(sample_points)\n",
    "    L_grads.append(out_grads)\n",
    "\n",
    "def new_beta_second_shift_estimator(F, x_0, alpha, N, control_variate=True, num_processes=1):\n",
    "\n",
    "\n",
    "    manager = multiprocessing.Manager()\n",
    "    pool = multiprocessing.Pool(processes=num_processes)\n",
    "    L_sample_points = manager.list()\n",
    "    L_grads = manager.list()\n",
    "    pool_workers = []\n",
    "    a = time.time()\n",
    "    for i in range(num_processes):\n",
    "        p = pool.apply_async(multi_second_shift_estimator_task, (None, F, N // num_processes, alpha, L_sample_points, L_grads, i,))\n",
    "        pool_workers.append(p)\n",
    "    \n",
    "    pool_workers = [p.wait() for p in pool_workers]\n",
    "\n",
    "    sample_points = np.vstack(list(L_sample_points))\n",
    "    out_grads = np.vstack(list(L_grads))\n",
    "\n",
    "    second_shift_est = dfe.new_proper_cov(sample_points, out_grads)\n",
    "    return second_shift_est.dot(np.linalg.inv(dfe.np_new_cov(sample_points)))"
   ]
  },
  {
   "cell_type": "code",
   "execution_count": 6,
   "metadata": {},
   "outputs": [],
   "source": [
    "np.random.seed(10)\n",
    "dim = 2500\n",
    "num_barriers = dim * 2\n",
    "dirs = np.random.normal(size=(num_barriers, dim)) # sample gaussian and normalize \n",
    "ws = dirs/np.linalg.norm(dirs, axis=1).reshape(-1, 1)\n",
    "bs = np.ones(num_barriers)\n",
    "\n",
    "barrier = na.Barriers.LogPolytopeBarrier(ws, bs)\n",
    "\n",
    "F = na.Functions.Linear(np.ones(dim))\n",
    "\n",
    "F = barrier # na.Functions.LinearCombination(F, barrier, [1, 1])"
   ]
  },
  {
   "cell_type": "code",
   "execution_count": 9,
   "metadata": {},
   "outputs": [
    {
     "name": "stdout",
     "output_type": "stream",
     "text": [
      "2500\n",
      "3.498368263244629\n",
      "2500\n",
      "3.569193124771118\n",
      "2500\n",
      "3.6273136138916016\n",
      "2500\n",
      "3.503836154937744\n",
      "2500\n",
      "3.5192155838012695\n",
      "2500\n",
      "3.440156936645508\n",
      "2500\n",
      "3.476142168045044\n",
      "2500\n",
      "3.5859899520874023\n",
      "2500\n",
      "3.638495683670044\n",
      "2500\n",
      "3.4816277027130127\n",
      "2500\n",
      "3.5911083221435547\n",
      "2500\n",
      "3.49714994430542\n",
      "2500\n",
      "3.5256919860839844\n",
      "2500\n",
      "3.4841487407684326\n",
      "2500\n",
      "3.637873649597168\n",
      "2500\n",
      "3.5838942527770996\n",
      "2500\n",
      "3.507283926010132\n",
      "2500\n",
      "3.5485706329345703\n",
      "2500\n",
      "3.632079839706421\n",
      "2500\n",
      "3.683032274246216\n",
      "2500\n",
      "3.4433555603027344\n",
      "2500\n",
      "3.6062872409820557\n",
      "2500\n",
      "3.624016761779785\n",
      "2500\n",
      "3.6580941677093506\n",
      "2500\n",
      "3.636711359024048\n",
      "2500\n",
      "3.555225372314453\n",
      "2500\n",
      "3.6881463527679443\n",
      "2500\n",
      "3.5865070819854736\n",
      "2500\n",
      "3.5497050285339355\n",
      "2500\n",
      "3.6343209743499756\n",
      "2500\n",
      "3.509509563446045\n",
      "2500\n",
      "3.5800256729125977\n",
      "2500\n",
      "3.631127119064331\n",
      "2500\n",
      "3.593026876449585\n",
      "2500\n",
      "3.5205726623535156\n",
      "2500\n",
      "3.487527370452881\n",
      "2500\n",
      "3.6842575073242188\n",
      "2500\n",
      "3.5844109058380127\n",
      "2500\n",
      "3.633708953857422\n",
      "2500\n",
      "3.6102678775787354\n",
      "2500\n",
      "3.574589252471924\n",
      "2500\n",
      "3.6844475269317627\n",
      "2500\n",
      "3.7504448890686035\n",
      "2500\n",
      "3.6635735034942627\n",
      "2500\n",
      "3.668187141418457\n",
      "2500\n",
      "3.741424083709717\n",
      "2500\n",
      "3.6801645755767822\n",
      "2500\n",
      "3.754335880279541\n",
      "2500\n",
      "3.687239646911621\n",
      "2500\n",
      "3.6345531940460205\n",
      "2500\n",
      "3.683540105819702\n",
      "2500\n",
      "3.6643128395080566\n",
      "2500\n",
      "3.7001218795776367\n",
      "2500\n",
      "3.6327033042907715\n",
      "2500\n",
      "3.8309526443481445\n",
      "2500\n",
      "3.760282039642334\n",
      "2500\n",
      "3.689967632293701\n",
      "2500\n",
      "3.6156907081604004\n",
      "2500\n",
      "3.707928419113159\n",
      "2500\n",
      "3.7331290245056152\n",
      "2500\n",
      "3.7620391845703125\n",
      "2500\n",
      "3.761263370513916\n",
      "2500\n",
      "3.680281400680542\n",
      "2500\n",
      "3.867753267288208\n",
      "2500\n",
      "3.8649256229400635\n",
      "2500\n",
      "3.739743709564209\n",
      "2500\n",
      "3.8834099769592285\n",
      "2500\n",
      "3.8717172145843506\n",
      "2500\n",
      "3.820563316345215\n",
      "2500\n",
      "3.8133788108825684\n",
      "2500\n",
      "3.825047731399536\n",
      "2500\n",
      "3.8000426292419434\n",
      "2500\n",
      "3.8198060989379883\n",
      "2500\n",
      "3.8216495513916016\n",
      "2500\n",
      "4.335237741470337\n",
      "2500\n",
      "4.458345174789429\n",
      "2500\n",
      "4.463779926300049\n",
      "2500\n",
      "4.3449296951293945\n",
      "2500\n",
      "4.552244424819946\n",
      "2500\n",
      "4.477923154830933\n",
      "2500\n",
      "4.336204528808594\n",
      "2500\n",
      "4.537475824356079\n",
      "2500\n",
      "4.529616594314575\n",
      "2500\n",
      "4.549898147583008\n",
      "2500\n",
      "4.909543037414551\n",
      "2500\n",
      "4.542847156524658\n",
      "2500\n",
      "4.546182155609131\n",
      "2500\n",
      "4.517333745956421\n",
      "2500\n",
      "4.588132619857788\n",
      "2500\n",
      "4.507270812988281\n",
      "2500\n",
      "4.470278739929199\n",
      "2500\n",
      "4.589047193527222\n",
      "2500\n",
      "4.605546236038208\n",
      "2500\n",
      "4.544285297393799\n",
      "2500\n",
      "4.527402639389038\n",
      "2500\n",
      "4.697320938110352\n",
      "2500\n",
      "4.527792930603027\n",
      "2500\n",
      "4.6818437576293945\n",
      "2500\n",
      "4.795465707778931\n",
      "2500\n",
      "4.834063768386841\n"
     ]
    }
   ],
   "source": [
    "xs = np.ones(dim) / np.linalg.norm(np.ones(dim))\n",
    "\n",
    "# a = time.time()\n",
    "# new_beta_second_shift_estimator(F, xs, 200, 10000, control_variate=True, num_processes=1)\n",
    "# print(time.time() - a)\n",
    "\n",
    "for _ in range(100):\n",
    "    a = time.time()\n",
    "    print(len(new_beta_second_shift_estimator(F, xs, 200, 100, control_variate=True, num_processes=8)))\n",
    "    print(time.time() - a)"
   ]
  },
  {
   "cell_type": "code",
   "execution_count": 56,
   "metadata": {},
   "outputs": [
    {
     "name": "stdout",
     "output_type": "stream",
     "text": [
      "9.42070984840393\n"
     ]
    }
   ],
   "source": [
    "a = time.time()\n",
    "dfe.new_beta_second_shift_estimator(F, xs, 200, 10000, control_variate=True)\n",
    "print(time.time() - a)"
   ]
  },
  {
   "cell_type": "code",
   "execution_count": 147,
   "metadata": {},
   "outputs": [
    {
     "name": "stdout",
     "output_type": "stream",
     "text": [
      "1\n",
      "2\n",
      "0\n",
      "3\n"
     ]
    },
    {
     "name": "stderr",
     "output_type": "stream",
     "text": [
      "Process ForkPoolWorker-286:\n",
      "Process ForkPoolWorker-288:\n",
      "Traceback (most recent call last):\n"
     ]
    }
   ],
   "source": [
    "from multiprocessing import Pool, TimeoutError\n",
    "import time\n",
    "import os\n",
    "\n",
    "def f(x):\n",
    "    print(x)\n",
    "    return x*x\n",
    "\n",
    "\n",
    "pool = multiprocessing.Pool(4)\n",
    "    \n",
    "\n",
    "# launching multiple evaluations asynchronously *may* use more processes\n",
    "multiple_results = [pool.apply_async(f, (i,)) for i in range(4)]\n",
    "# print([res.get(timeout=1) for res in multiple_results])\n",
    "\n",
    "# res = pool.apply_async(f, (20,))      # runs in *only* one process\n",
    "# print(res.get(timeout=1))             # prints \"400\""
   ]
  },
  {
   "cell_type": "code",
   "execution_count": 12,
   "metadata": {},
   "outputs": [
    {
     "name": "stdout",
     "output_type": "stream",
     "text": [
      "499999999500000000\n",
      "13.995182991027832\n"
     ]
    }
   ],
   "source": [
    "from multiprocessing import Process, Queue\n",
    "a = time.time()\n",
    "def sum(a,b):\n",
    "    su=0\n",
    "    for i in range(a,b):\n",
    "        su+=i\n",
    "    q.put(su)\n",
    "\n",
    "q= Queue()\n",
    "\n",
    "p1=Process(target=sum, args=(1,25*10**7))\n",
    "p2=Process(target=sum, args=(25*10**7,5*10**8))\n",
    "p3=Process(target=sum, args=(5*10**8,75*10**7))\n",
    "p4=Process(target=sum, args=(75*10**7,10**9))\n",
    "\n",
    "p1.start()\n",
    "p2.start()\n",
    "p3.start()\n",
    "p4.start()\n",
    "\n",
    "r1=q.get()\n",
    "r2=q.get()\n",
    "r3=q.get()\n",
    "r4=q.get()\n",
    "\n",
    "print(r1+r2+r3+r4)\n",
    "print(time.time() - a)"
   ]
  },
  {
   "cell_type": "code",
   "execution_count": null,
   "metadata": {},
   "outputs": [],
   "source": [
    "def sum(a,b):\n",
    "    su=0\n",
    "    for i in range(a,b):\n",
    "        su+=i\n",
    "    print(su)\n",
    "a = time.time()\n",
    "sum(1,10**9)\n",
    "print(time.time() - a)"
   ]
  },
  {
   "cell_type": "code",
   "execution_count": 38,
   "metadata": {},
   "outputs": [],
   "source": [
    "import jax.numpy as jnp\n",
    "import jax"
   ]
  },
  {
   "cell_type": "code",
   "execution_count": 43,
   "metadata": {},
   "outputs": [
    {
     "data": {
      "text/plain": [
       "DeviceArray([[ 1.,  1.],\n",
       "             [-1.,  1.]], dtype=float32)"
      ]
     },
     "execution_count": 43,
     "metadata": {},
     "output_type": "execute_result"
    }
   ],
   "source": [
    "xs_np = np.array([[1., 1.], [-1., 1.]])\n",
    "xs = jnp.array(xs_np)\n",
    "# xs[jnp.any(xs > 0, axis=1)] = jnp.inf \n",
    "jax.ops.index_update(xs, jnp.any(xs < 0, axis=1), jnp.inf)\n",
    "xs "
   ]
  },
  {
   "cell_type": "code",
   "execution_count": 40,
   "metadata": {},
   "outputs": [
    {
     "data": {
      "text/plain": [
       "array([[ 1.,  1.],\n",
       "       [inf, inf]])"
      ]
     },
     "execution_count": 40,
     "metadata": {},
     "output_type": "execute_result"
    }
   ],
   "source": [
    "xs_np[np.any(xs_np < 0, axis=1)] = np.inf \n",
    "xs_np"
   ]
  },
  {
   "cell_type": "code",
   "execution_count": 41,
   "metadata": {},
   "outputs": [
    {
     "data": {
      "text/plain": [
       "array([[ 1.,  1.],\n",
       "       [inf, inf]])"
      ]
     },
     "execution_count": 41,
     "metadata": {},
     "output_type": "execute_result"
    }
   ],
   "source": [
    "xs_np"
   ]
  },
  {
   "cell_type": "code",
   "execution_count": 42,
   "metadata": {},
   "outputs": [
    {
     "data": {
      "text/plain": [
       "False"
      ]
     },
     "execution_count": 42,
     "metadata": {},
     "output_type": "execute_result"
    }
   ],
   "source": [
    "np.nan > 1"
   ]
  },
  {
   "cell_type": "code",
   "execution_count": null,
   "metadata": {},
   "outputs": [],
   "source": []
  }
 ],
 "metadata": {
  "kernelspec": {
   "display_name": "Python3 (new_adv)",
   "language": "python",
   "name": "new_adv"
  },
  "language_info": {
   "codemirror_mode": {
    "name": "ipython",
    "version": 3
   },
   "file_extension": ".py",
   "mimetype": "text/x-python",
   "name": "python",
   "nbconvert_exporter": "python",
   "pygments_lexer": "ipython3",
   "version": "3.6.8"
  }
 },
 "nbformat": 4,
 "nbformat_minor": 2
}
