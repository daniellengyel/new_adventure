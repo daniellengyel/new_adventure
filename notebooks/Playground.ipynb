{
 "cells": [
  {
   "cell_type": "code",
   "execution_count": 1,
   "metadata": {},
   "outputs": [
    {
     "name": "stderr",
     "output_type": "stream",
     "text": [
      "/Users/daniellengyel/miniconda3/lib/python3.6/site-packages/matplotlib/__init__.py:886: MatplotlibDeprecationWarning: \n",
      "examples.directory is deprecated; in the future, examples will be found relative to the 'datapath' directory.\n",
      "  \"found relative to the 'datapath' directory.\".format(key))\n"
     ]
    }
   ],
   "source": [
    "import new_adventure as na\n",
    "import new_adventure.derivative_free_estimation as dfe\n",
    "import numpy as np\n",
    "import matplotlib.pyplot as plt\n",
    "import time\n",
    "\n",
    "import numpy as np\n",
    "import time\n",
    "\n",
    "import multiprocessing\n",
    "from os import getpid\n",
    "\n",
    "%load_ext autoreload\n",
    "%autoreload 2\n"
   ]
  },
  {
   "cell_type": "code",
   "execution_count": 6,
   "metadata": {},
   "outputs": [],
   "source": [
    "def f(i):\n",
    "    print(i)\n",
    "    return 1\n",
    "\n",
    "def process_task(x_0, F, process_N, alpha, L_sample_points, L_grads, pid):\n",
    "    x_0 = np.ones(dim) / np.linalg.norm(np.ones(dim))\n",
    "\n",
    "#     print(process_N)\n",
    "#     print(pid)\n",
    "    # Notice, we should be sharing the radius. So some lock is probably needed to synchronise \n",
    "    sample_points = dfe.hit_run(x_0, F, x_0.shape[0], process_N, alpha)\n",
    "    out_grads = F.f1(sample_points)\n",
    "#     L_sample_points.append(sample_points)\n",
    "#     L_grads.append(out_grads)\n",
    "\n",
    "def new_beta_second_shift_estimator(F, x_0, alpha, N, control_variate=True, num_processes=1):\n",
    "\n",
    "\n",
    "\n",
    "#     with multiprocessing.Manager() as manager:\n",
    "    manager = multiprocessing.Manager()\n",
    "    pool = multiprocessing.Pool(processes=num_processes)\n",
    "    L_sample_points = None # [] #manager.list()\n",
    "    L_grads = None # [] #manager.list()\n",
    "    pool_workers = []\n",
    "    for i in range(num_processes):\n",
    "#             p = pool.apply_async(f, (i,))\n",
    "        p = pool.apply_async(process_task, (None, F, N // num_processes, alpha, L_sample_points, L_grads, i,))\n",
    "        pool_workers.append(p)\n",
    "#         p.wait()\n",
    "#             print(i)\n",
    "#         print(pool_workers)\n",
    "    for pw in pool_workers:\n",
    "        a = time.time()\n",
    "        pw.wait()\n",
    "#         print(time.time() - a)\n",
    "#     [pw.wait() for pw in pool_workers]\n",
    "#         print([pw.get(timeout=1) for pw in pool_workers])\n",
    "\n",
    "\n",
    "#         sample_points = np.vstack(list(L_sample_points))\n",
    "#         out_grads = np.vstack(list(L_grads))\n",
    "\n",
    "#     second_shift_est = dfe.new_proper_cov(sample_points, out_grads)\n",
    "#     return second_shift_est.dot(np.linalg.inv(dfe.np_new_cov(sample_points)))"
   ]
  },
  {
   "cell_type": "code",
   "execution_count": 7,
   "metadata": {},
   "outputs": [],
   "source": [
    "np.random.seed(10)\n",
    "dim = 2500\n",
    "num_barriers = dim * 2\n",
    "dirs = np.random.normal(size=(num_barriers, dim)) # sample gaussian and normalize \n",
    "ws = dirs/np.linalg.norm(dirs, axis=1).reshape(-1, 1)\n",
    "bs = np.ones(num_barriers)\n",
    "\n",
    "barrier = na.Barriers.LogPolytopeBarrier(ws, bs)\n",
    "\n",
    "F = na.Functions.Linear(np.ones(dim))\n",
    "\n",
    "F = barrier # na.Functions.LinearCombination(F, barrier, [1, 1])"
   ]
  },
  {
   "cell_type": "code",
   "execution_count": 9,
   "metadata": {},
   "outputs": [
    {
     "name": "stdout",
     "output_type": "stream",
     "text": [
      "11.348680019378662\n",
      "9.809731245040894\n"
     ]
    },
    {
     "name": "stderr",
     "output_type": "stream",
     "text": [
      "Process ForkPoolWorker-32:\n",
      "Process ForkPoolWorker-34:\n",
      "Process ForkPoolWorker-35:\n",
      "Traceback (most recent call last):\n",
      "Traceback (most recent call last):\n",
      "Traceback (most recent call last):\n",
      "  File \"/Users/daniellengyel/miniconda3/lib/python3.6/multiprocessing/process.py\", line 258, in _bootstrap\n",
      "    self.run()\n",
      "  File \"/Users/daniellengyel/miniconda3/lib/python3.6/multiprocessing/process.py\", line 258, in _bootstrap\n",
      "    self.run()\n",
      "  File \"/Users/daniellengyel/miniconda3/lib/python3.6/multiprocessing/process.py\", line 258, in _bootstrap\n",
      "    self.run()\n",
      "  File \"/Users/daniellengyel/miniconda3/lib/python3.6/multiprocessing/process.py\", line 93, in run\n",
      "    self._target(*self._args, **self._kwargs)\n",
      "  File \"/Users/daniellengyel/miniconda3/lib/python3.6/multiprocessing/process.py\", line 93, in run\n",
      "    self._target(*self._args, **self._kwargs)\n",
      "  File \"/Users/daniellengyel/miniconda3/lib/python3.6/multiprocessing/process.py\", line 93, in run\n",
      "    self._target(*self._args, **self._kwargs)\n",
      "  File \"/Users/daniellengyel/miniconda3/lib/python3.6/multiprocessing/pool.py\", line 108, in worker\n",
      "    task = get()\n",
      "  File \"/Users/daniellengyel/miniconda3/lib/python3.6/multiprocessing/pool.py\", line 108, in worker\n",
      "    task = get()\n",
      "  File \"/Users/daniellengyel/miniconda3/lib/python3.6/multiprocessing/pool.py\", line 108, in worker\n",
      "    task = get()\n",
      "  File \"/Users/daniellengyel/miniconda3/lib/python3.6/multiprocessing/queues.py\", line 335, in get\n",
      "    res = self._reader.recv_bytes()\n",
      "  File \"/Users/daniellengyel/miniconda3/lib/python3.6/multiprocessing/queues.py\", line 335, in get\n",
      "    res = self._reader.recv_bytes()\n",
      "  File \"/Users/daniellengyel/miniconda3/lib/python3.6/multiprocessing/connection.py\", line 216, in recv_bytes\n",
      "    buf = self._recv_bytes(maxlength)\n",
      "  File \"/Users/daniellengyel/miniconda3/lib/python3.6/multiprocessing/queues.py\", line 334, in get\n",
      "    with self._rlock:\n",
      "  File \"/Users/daniellengyel/miniconda3/lib/python3.6/multiprocessing/connection.py\", line 216, in recv_bytes\n",
      "    buf = self._recv_bytes(maxlength)\n",
      "  File \"/Users/daniellengyel/miniconda3/lib/python3.6/multiprocessing/connection.py\", line 407, in _recv_bytes\n",
      "    buf = self._recv(4)\n",
      "  File \"/Users/daniellengyel/miniconda3/lib/python3.6/multiprocessing/synchronize.py\", line 95, in __enter__\n",
      "    return self._semlock.__enter__()\n",
      "  File \"/Users/daniellengyel/miniconda3/lib/python3.6/multiprocessing/connection.py\", line 407, in _recv_bytes\n",
      "    buf = self._recv(4)\n",
      "  File \"/Users/daniellengyel/miniconda3/lib/python3.6/multiprocessing/connection.py\", line 379, in _recv\n",
      "    chunk = read(handle, remaining)\n",
      "KeyboardInterrupt\n",
      "  File \"/Users/daniellengyel/miniconda3/lib/python3.6/multiprocessing/connection.py\", line 379, in _recv\n",
      "    chunk = read(handle, remaining)\n",
      "KeyboardInterrupt\n",
      "KeyboardInterrupt\n"
     ]
    }
   ],
   "source": [
    "xs = np.ones(dim) / np.linalg.norm(np.ones(dim))\n",
    "\n",
    "a = time.time()\n",
    "new_beta_second_shift_estimator(F, xs, 200, 10000, control_variate=True, num_processes=1)\n",
    "print(time.time() - a)\n",
    "\n",
    "a = time.time()\n",
    "new_beta_second_shift_estimator(F, xs, 200, 10000, control_variate=True, num_processes=2)\n",
    "print(time.time() - a)"
   ]
  },
  {
   "cell_type": "code",
   "execution_count": 56,
   "metadata": {},
   "outputs": [
    {
     "name": "stdout",
     "output_type": "stream",
     "text": [
      "9.42070984840393\n"
     ]
    }
   ],
   "source": [
    "a = time.time()\n",
    "dfe.new_beta_second_shift_estimator(F, xs, 200, 10000, control_variate=True)\n",
    "print(time.time() - a)"
   ]
  },
  {
   "cell_type": "code",
   "execution_count": 147,
   "metadata": {},
   "outputs": [
    {
     "name": "stdout",
     "output_type": "stream",
     "text": [
      "1\n",
      "2\n",
      "0\n",
      "3\n"
     ]
    },
    {
     "name": "stderr",
     "output_type": "stream",
     "text": [
      "Process ForkPoolWorker-286:\n",
      "Process ForkPoolWorker-288:\n",
      "Traceback (most recent call last):\n"
     ]
    }
   ],
   "source": [
    "from multiprocessing import Pool, TimeoutError\n",
    "import time\n",
    "import os\n",
    "\n",
    "def f(x):\n",
    "    print(x)\n",
    "    return x*x\n",
    "\n",
    "\n",
    "pool = multiprocessing.Pool(4)\n",
    "    \n",
    "\n",
    "# launching multiple evaluations asynchronously *may* use more processes\n",
    "multiple_results = [pool.apply_async(f, (i,)) for i in range(4)]\n",
    "# print([res.get(timeout=1) for res in multiple_results])\n",
    "\n",
    "# res = pool.apply_async(f, (20,))      # runs in *only* one process\n",
    "# print(res.get(timeout=1))             # prints \"400\""
   ]
  },
  {
   "cell_type": "code",
   "execution_count": 12,
   "metadata": {},
   "outputs": [
    {
     "name": "stdout",
     "output_type": "stream",
     "text": [
      "499999999500000000\n",
      "13.995182991027832\n"
     ]
    }
   ],
   "source": [
    "from multiprocessing import Process, Queue\n",
    "a = time.time()\n",
    "def sum(a,b):\n",
    "    su=0\n",
    "    for i in range(a,b):\n",
    "        su+=i\n",
    "    q.put(su)\n",
    "\n",
    "q= Queue()\n",
    "\n",
    "p1=Process(target=sum, args=(1,25*10**7))\n",
    "p2=Process(target=sum, args=(25*10**7,5*10**8))\n",
    "p3=Process(target=sum, args=(5*10**8,75*10**7))\n",
    "p4=Process(target=sum, args=(75*10**7,10**9))\n",
    "\n",
    "p1.start()\n",
    "p2.start()\n",
    "p3.start()\n",
    "p4.start()\n",
    "\n",
    "r1=q.get()\n",
    "r2=q.get()\n",
    "r3=q.get()\n",
    "r4=q.get()\n",
    "\n",
    "print(r1+r2+r3+r4)\n",
    "print(time.time() - a)"
   ]
  },
  {
   "cell_type": "code",
   "execution_count": null,
   "metadata": {},
   "outputs": [],
   "source": [
    "def sum(a,b):\n",
    "    su=0\n",
    "    for i in range(a,b):\n",
    "        su+=i\n",
    "    print(su)\n",
    "a = time.time()\n",
    "sum(1,10**9)\n",
    "print(time.time() - a)"
   ]
  }
 ],
 "metadata": {
  "kernelspec": {
   "display_name": "Python3 (new_adv)",
   "language": "python",
   "name": "new_adv"
  },
  "language_info": {
   "codemirror_mode": {
    "name": "ipython",
    "version": 3
   },
   "file_extension": ".py",
   "mimetype": "text/x-python",
   "name": "python",
   "nbconvert_exporter": "python",
   "pygments_lexer": "ipython3",
   "version": "3.6.8"
  }
 },
 "nbformat": 4,
 "nbformat_minor": 2
}
