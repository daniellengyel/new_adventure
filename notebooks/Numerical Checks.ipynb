{
 "cells": [
  {
   "cell_type": "code",
   "execution_count": 2,
   "metadata": {},
   "outputs": [
    {
     "name": "stdout",
     "output_type": "stream",
     "text": [
      "The autoreload extension is already loaded. To reload it, use:\n",
      "  %reload_ext autoreload\n"
     ]
    }
   ],
   "source": [
    "import new_adventure as na\n",
    "import new_adventure.derivative_free_estimation as dfe\n",
    "import numpy as np\n",
    "import matplotlib.pyplot as plt\n",
    "import time\n",
    "from jax import random as jrandom\n",
    "import jax.numpy as jnp\n",
    "import jax \n",
    "import pandas as pd\n",
    "from tqdm import tqdm \n",
    "\n",
    "%load_ext autoreload\n",
    "%autoreload 2\n",
    "\n",
    "\n",
    "%matplotlib inline\n",
    "plt.rcParams['figure.figsize'] = [16,8]\n",
    "plt.style.use('ggplot')\n",
    "plt.rcParams['lines.markersize'] = 8\n"
   ]
  },
  {
   "cell_type": "markdown",
   "metadata": {},
   "source": [
    "# Covariance of multi-beta distribution"
   ]
  },
  {
   "cell_type": "code",
   "execution_count": 85,
   "metadata": {},
   "outputs": [],
   "source": [
    "np.random.seed(10)\n",
    "dim = 100\n",
    "num_barriers = dim * 2\n",
    "dirs = np.random.normal(size=(num_barriers, dim)) # sample gaussian and normalize \n",
    "ws = dirs/np.linalg.norm(dirs, axis=1).reshape(-1, 1)\n",
    "bs = np.ones(num_barriers)\n",
    "\n",
    "jrandom_key = jrandom.PRNGKey(0)\n",
    "\n",
    "xs = np.ones(dim) / np.linalg.norm(np.ones(dim)) * 0.1\n",
    "\n",
    "barrier = na.Barriers.LogPolytopeBarrier(ws, bs)\n",
    "F = barrier "
   ]
  },
  {
   "cell_type": "code",
   "execution_count": 89,
   "metadata": {},
   "outputs": [],
   "source": [
    "N = 100\n",
    "alpha = 10\n",
    "jrandom_key, subkey = jrandom.split(jrandom_key)\n",
    "X, R = dfe.jax_hit_run(xs, F, dim, N, alpha, subkey)\n",
    "# beta_p = (jrandom.beta(subkey, alpha, alpha, shape=(N,)) - 0.5) * 2 * R "
   ]
  },
  {
   "cell_type": "code",
   "execution_count": 90,
   "metadata": {},
   "outputs": [
    {
     "name": "stdout",
     "output_type": "stream",
     "text": [
      "Estimated Second Moment [[ 3.6068051e-03 -5.0796214e-05  1.1345594e-04 ...  3.8502662e-04\n",
      "  -1.4910508e-04 -6.6221779e-04]\n",
      " [-5.0796214e-05  4.0831054e-03 -1.1636129e-03 ... -4.0521307e-05\n",
      "  -3.9688760e-04 -8.6459192e-04]\n",
      " [ 1.1345594e-04 -1.1636129e-03  4.7575901e-03 ...  6.4405409e-04\n",
      "   3.8928658e-04  9.5048710e-04]\n",
      " ...\n",
      " [ 3.8502671e-04 -4.0521394e-05  6.4405409e-04 ...  4.0338491e-03\n",
      "   4.4983745e-04 -1.8648370e-04]\n",
      " [-1.4910506e-04 -3.9688754e-04  3.8928646e-04 ...  4.4983745e-04\n",
      "   2.5320919e-03  2.5997455e-05]\n",
      " [-6.6221802e-04 -8.6459192e-04  9.5048716e-04 ... -1.8648370e-04\n",
      "   2.5997455e-05  3.4548664e-03]]\n",
      "True Second Moment 0.0026574063\n"
     ]
    }
   ],
   "source": [
    "print(\"Estimated Second Moment\", (X - xs).T.dot(X - xs) / N)\n",
    "print(\"True Second Moment\", R**2/(1 + 2 * alpha) * 1/dim)"
   ]
  }
 ],
 "metadata": {
  "kernelspec": {
   "display_name": "Python3 (new_adv)",
   "language": "python",
   "name": "new_adv"
  },
  "language_info": {
   "codemirror_mode": {
    "name": "ipython",
    "version": 3
   },
   "file_extension": ".py",
   "mimetype": "text/x-python",
   "name": "python",
   "nbconvert_exporter": "python",
   "pygments_lexer": "ipython3",
   "version": "3.6.8"
  }
 },
 "nbformat": 4,
 "nbformat_minor": 2
}
