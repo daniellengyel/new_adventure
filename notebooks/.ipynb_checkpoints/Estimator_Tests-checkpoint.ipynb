{
 "cells": [
  {
   "cell_type": "code",
   "execution_count": 1,
   "metadata": {},
   "outputs": [
    {
     "name": "stderr",
     "output_type": "stream",
     "text": [
      "/Users/daniellengyel/miniconda3/lib/python3.6/site-packages/matplotlib/__init__.py:886: MatplotlibDeprecationWarning: \n",
      "examples.directory is deprecated; in the future, examples will be found relative to the 'datapath' directory.\n",
      "  \"found relative to the 'datapath' directory.\".format(key))\n"
     ]
    }
   ],
   "source": [
    "import new_adventure as na\n",
    "import new_adventure.derivative_free_estimation as dfe\n",
    "import numpy as np\n",
    "import matplotlib.pyplot as plt\n",
    "import time\n",
    "from jax import random as jrandom\n",
    "import jax.numpy as jnp\n",
    "import jax \n",
    "import pandas as pd\n",
    "from tqdm import tqdm \n",
    "\n",
    "%load_ext autoreload\n",
    "%autoreload 2\n",
    "\n",
    "\n",
    "%matplotlib inline\n",
    "plt.rcParams['figure.figsize'] = [14,8]\n",
    "plt.style.use('ggplot')\n",
    "plt.rcParams['lines.markersize'] = 8\n",
    "plt.rcParams.update({'font.size': 25})\n"
   ]
  },
  {
   "cell_type": "code",
   "execution_count": 70,
   "metadata": {},
   "outputs": [],
   "source": [
    "np.random.seed(10)\n",
    "dim = 25\n",
    "num_barriers = dim * 2\n",
    "dirs = np.random.normal(size=(num_barriers, dim)) # sample gaussian and normalize \n",
    "ws = dirs/np.linalg.norm(dirs, axis=1).reshape(-1, 1)\n",
    "bs = np.ones(num_barriers)\n",
    "\n",
    "jrandom_key = jrandom.PRNGKey(0)\n",
    "\n",
    "x_0 = np.zeros(dim)\n",
    "\n",
    "barrier = na.Barriers.LogPolytopeBarrier(ws, bs)\n",
    "\n",
    "F = barrier "
   ]
  },
  {
   "cell_type": "code",
   "execution_count": 71,
   "metadata": {},
   "outputs": [],
   "source": [
    "# We get 2E2, 2E1 without control variates, 2E1 with mean control variate, 2E1 with heuristic control variate\n",
    "\n",
    "def beta_2E1_tests(F, x_0, alpha, N, jrandom_key, control_variate=True, heuristic_CV=True):\n",
    "    jrandom_key, subkey = jrandom.split(jrandom_key)\n",
    "    sample_points, R = dfe.jax_hit_run(x_0, F, x_0.shape[0], N, alpha, subkey)  \n",
    "    if control_variate: \n",
    "        ru = sample_points - jnp.mean(sample_points, axis=0)\n",
    "    else:\n",
    "        ru = sample_points - x_0\n",
    "    jrandom_key, subkey = jrandom.split(jrandom_key)\n",
    "    out_grads = F.f1(sample_points, subkey)\n",
    "    g_ru = out_grads.T.dot(ru)/float(N)\n",
    "    if heuristic_CV:\n",
    "        cov = ru.T.dot(ru) / N\n",
    "        return g_ru.dot(jnp.linalg.inv(cov))\n",
    "    \n",
    "    cov = dfe.beta_covariance(x_0.shape[0], R, alpha) # jnp.cov(sample_points.T)\n",
    "    return g_ru * 1/cov\n"
   ]
  },
  {
   "cell_type": "markdown",
   "metadata": {},
   "source": [
    "# Histogram of Distance to true Hessian "
   ]
  },
  {
   "cell_type": "code",
   "execution_count": null,
   "metadata": {},
   "outputs": [],
   "source": [
    "alpha = 100\n",
    "N = 1000\n",
    "\n",
    "num_trials = 100\n",
    "\n",
    "res_dict = {\"2E1\": [], \"2E1_meanCV\": [], \"2E1_covCV\": [], \"2E1_meanCV_covCV\": [], \"2FD1\": []}\n",
    "\n",
    "true_hess = F.f2(x_0.reshape(1, -1))[0]\n",
    "\n",
    "err_bound = 0.01\n",
    "\n",
    "\n",
    "import time\n",
    "for _ in range(num_trials):\n",
    "    jrandom_key, subkey = jrandom.split(jrandom_key)\n",
    "#     res_dict[\"2E1\"].append(jnp.linalg.norm(beta_2E1_tests(F, x_0, alpha, N, subkey, control_variate=False, heuristic_CV=False) - true_hess))\n",
    "#     res_dict[\"2E1_meanCV\"].append(jnp.linalg.norm(beta_2E1_tests(F, x_0, alpha, N, subkey, control_variate=True, heuristic_CV=False) - true_hess))\n",
    "#     res_dict[\"2E1_covCV\"].append(jnp.linalg.norm(beta_2E1_tests(F, x_0, alpha, N, subkey, control_variate=False, heuristic_CV=True) - true_hess))\n",
    "    start_time = time.time()\n",
    "    res_dict[\"2E1_meanCV_covCV\"].append(jnp.linalg.norm(beta_2E1_tests(F, x_0, alpha, N, subkey, control_variate=True, heuristic_CV=True) - true_hess))\n",
    "    start_time = time.time()\n",
    "    res_dict[\"2FD1\"].append(jnp.linalg.norm(dfe.FD_2FD1(F, x_0, err_bound, dim, subkey) - true_hess))\n"
   ]
  },
  {
   "cell_type": "code",
   "execution_count": null,
   "metadata": {
    "scrolled": false
   },
   "outputs": [],
   "source": [
    "for k in res_dict:\n",
    "    print(k)\n",
    "    plt.hist(res_dict[k])\n",
    "    plt.xlabel(\"Distance to True Hessian.\")\n",
    "    plt.ylabel(\"Quantity\")\n",
    "    plt.title(k)\n",
    "    plt.savefig(\"./figs/{}\".format(k))\n",
    "    plt.show()"
   ]
  },
  {
   "cell_type": "markdown",
   "metadata": {},
   "source": [
    "# Multilevel Variance "
   ]
  },
  {
   "cell_type": "code",
   "execution_count": null,
   "metadata": {},
   "outputs": [],
   "source": []
  }
 ],
 "metadata": {
  "kernelspec": {
   "display_name": "Python3 (new_adv)",
   "language": "python",
   "name": "new_adv"
  },
  "language_info": {
   "codemirror_mode": {
    "name": "ipython",
    "version": 3
   },
   "file_extension": ".py",
   "mimetype": "text/x-python",
   "name": "python",
   "nbconvert_exporter": "python",
   "pygments_lexer": "ipython3",
   "version": "3.6.8"
  }
 },
 "nbformat": 4,
 "nbformat_minor": 2
}
