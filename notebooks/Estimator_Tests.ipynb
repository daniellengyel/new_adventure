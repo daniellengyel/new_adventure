{
 "cells": [
  {
   "cell_type": "code",
   "execution_count": 86,
   "metadata": {},
   "outputs": [
    {
     "ename": "ImportError",
     "evalue": "cannot import name 'newton_dir_loss'",
     "output_type": "error",
     "traceback": [
      "\u001b[0;31m---------------------------------------------------------------------------\u001b[0m",
      "\u001b[0;31mImportError\u001b[0m                               Traceback (most recent call last)",
      "\u001b[0;32m<ipython-input-86-8cba44597c9e>\u001b[0m in \u001b[0;36m<module>\u001b[0;34m\u001b[0m\n\u001b[1;32m     23\u001b[0m \u001b[0;32mimport\u001b[0m \u001b[0mitertools\u001b[0m\u001b[0;34m\u001b[0m\u001b[0;34m\u001b[0m\u001b[0m\n\u001b[1;32m     24\u001b[0m \u001b[0;34m\u001b[0m\u001b[0m\n\u001b[0;32m---> 25\u001b[0;31m \u001b[0;32mfrom\u001b[0m \u001b[0mutils\u001b[0m \u001b[0;32mimport\u001b[0m \u001b[0mnewton_dir_loss\u001b[0m\u001b[0;34m\u001b[0m\u001b[0;34m\u001b[0m\u001b[0m\n\u001b[0m",
      "\u001b[0;31mImportError\u001b[0m: cannot import name 'newton_dir_loss'"
     ]
    }
   ],
   "source": [
    "import numpy as np\n",
    "import time\n",
    "import multiprocessing\n",
    "import random \n",
    "from jax import random as jrandom\n",
    "import jax.numpy as jnp\n",
    "import jax\n",
    "from scipy.optimize import fsolve\n",
    "from jax import jit, partial, grad, jacfwd\n",
    "import torch \n",
    "\n",
    "import matplotlib.pyplot as plt\n",
    "from tqdm import tqdm \n",
    "\n",
    "%matplotlib inline\n",
    "plt.rcParams['figure.figsize'] = [16,8]\n",
    "plt.style.use('ggplot')\n",
    "plt.rcParams['lines.markersize'] = 8\n",
    "\n",
    "from jax.config import config\n",
    "config.update(\"jax_enable_x64\", True)\n",
    "\n",
    "import itertools\n",
    "\n",
    "from utils import Logger, newton_dir_loss"
   ]
  },
  {
   "cell_type": "markdown",
   "metadata": {},
   "source": [
    "# Look at the variance of the estimator for each function. Not noisy. "
   ]
  },
  {
   "cell_type": "code",
   "execution_count": 88,
   "metadata": {},
   "outputs": [],
   "source": [
    "def run_tests(estimator, funcs, x_0_generator, standard_deviations, dimensions, frac_samples, num_runs, seed):\n",
    "    logger = Logger([\"function\", \"dimension\", \"std\", \"frac_samples\"])\n",
    "\n",
    "    jrandom_key = jrandom.PRNGKey(seed)\n",
    "\n",
    "    for _ in tqdm(range(num_runs)):\n",
    "        \n",
    "        for dim in dimensions:\n",
    "            for func_name in funcs:\n",
    "                F = funcs[func_name](dim)\n",
    "                x_0 = x_0_generator(dim)\n",
    "                true_H = F.f2(x_0.reshape(1, -1))[0]\n",
    "                true_grad = F.f1(x_0.reshape(1, -1))[0]\n",
    "    \n",
    "                for std, frac_s in itertools.product(standard_deviations, frac_samples): \n",
    "                    num_samples = frac_s*dim\n",
    "\n",
    "                    jrandom_key, subkey = jrandom.split(jrandom_key)\n",
    "                    \n",
    "                    est_H = estimator(F, x_0, std, num_samples, subkey)\n",
    "                    \n",
    "                    logger.add_value([func_name, dim, std, frac_s])\n",
    "                    \n",
    "    return logger\n",
    "        "
   ]
  },
  {
   "cell_type": "code",
   "execution_count": null,
   "metadata": {},
   "outputs": [],
   "source": [
    "B = Beta()\n",
    "A = Ackley()\n",
    "\n",
    "Q_m = 1*jnp.eye(dim)\n",
    "b = jnp.zeros(dim)\n",
    "Q = Quadratic(Q_m, b)\n",
    "\n",
    "funcs = {\n",
    "    \"Quadratic\": lambda dim: Quadratic(jnp.eye(dim), jnp.zeros(dim)),\n",
    "    \"Ackley\": lambda dim: Ackley(),\n",
    "    \"Beta\": lambda dim: Beta()\n",
    "}\n",
    "\n",
    "star_estimator = lambda F, x_0, std, num_samples, subkey: star_2E1(F, x_0, std, subkey, noisy_grad=False)\n",
    "\n",
    "x_0_generator = lambda dim: jnp.ones(dim)/jnp.linalg.norm(jnp.ones(dim))\n",
    "\n",
    "seed = 0\n",
    "\n",
    "standard_deviations = [1, 0.1]\n",
    "dimensions = [1, 10]\n",
    "frac_samples = [1]\n",
    "num_runs = 2\n"
   ]
  },
  {
   "cell_type": "code",
   "execution_count": 84,
   "metadata": {},
   "outputs": [
    {
     "name": "stdout",
     "output_type": "stream",
     "text": [
      "1\n",
      "1\n",
      "1\n",
      "1\n",
      "1\n",
      "1\n",
      "1\n",
      "1\n",
      "1\n",
      "1\n",
      "1\n",
      "1\n",
      "1\n",
      "1\n",
      "1\n",
      "1\n",
      "2\n",
      "2\n",
      "2\n",
      "2\n",
      "2\n",
      "2\n",
      "2\n",
      "2\n",
      "2\n",
      "2\n",
      "2\n",
      "2\n",
      "2\n",
      "2\n",
      "2\n",
      "2\n",
      "3\n",
      "3\n",
      "3\n",
      "3\n",
      "3\n",
      "3\n",
      "3\n",
      "3\n",
      "3\n",
      "3\n",
      "3\n",
      "3\n",
      "3\n",
      "3\n",
      "3\n",
      "3\n",
      "4\n",
      "4\n",
      "4\n",
      "4\n",
      "4\n",
      "4\n",
      "4\n",
      "4\n",
      "4\n",
      "4\n",
      "4\n",
      "4\n",
      "4\n",
      "4\n",
      "4\n",
      "4\n"
     ]
    }
   ],
   "source": []
  },
  {
   "cell_type": "code",
   "execution_count": null,
   "metadata": {},
   "outputs": [],
   "source": []
  }
 ],
 "metadata": {
  "kernelspec": {
   "display_name": "Python3 (new_adv)",
   "language": "python",
   "name": "new_adv"
  },
  "language_info": {
   "codemirror_mode": {
    "name": "ipython",
    "version": 3
   },
   "file_extension": ".py",
   "mimetype": "text/x-python",
   "name": "python",
   "nbconvert_exporter": "python",
   "pygments_lexer": "ipython3",
   "version": "3.6.8"
  }
 },
 "nbformat": 4,
 "nbformat_minor": 2
}
