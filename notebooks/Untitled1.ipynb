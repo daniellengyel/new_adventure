{
 "cells": [
  {
   "cell_type": "code",
   "execution_count": 3,
   "metadata": {},
   "outputs": [],
   "source": [
    "\n",
    "import numpy as np\n",
    "import matplotlib.pyplot as plt\n",
    "import time\n",
    "\n",
    "%load_ext autoreload\n",
    "%autoreload 2\n"
   ]
  },
  {
   "cell_type": "code",
   "execution_count": 46,
   "metadata": {},
   "outputs": [],
   "source": [
    "def hit_run(N, alpha):\n",
    "    dim = 2\n",
    "    dirs = np.random.normal(size=(N, dim)) # sample gaussian and normalize \n",
    "    dirs = dirs/np.linalg.norm(dirs, axis=1).reshape(-1, 1)\n",
    "    radius = 1\n",
    "    beta_p = (np.random.beta(alpha, alpha, size=(N, 1)) - 0.5) * 2 * radius \n",
    "    return dirs * beta_p\n",
    "    "
   ]
  },
  {
   "cell_type": "code",
   "execution_count": 47,
   "metadata": {},
   "outputs": [],
   "source": [
    "def get_A(xs):\n",
    "    \"\"\"xs.shape = [N, d]\"\"\"\n",
    "    xs -= np.mean(xs, axis=0)\n",
    "    curr_m = None\n",
    "    for i in range(len(xs)):\n",
    "        if curr_m is None:\n",
    "            curr_m = np.outer(xs[i]**2, xs[i]**2)\n",
    "        else:\n",
    "            curr_m += np.outer(xs[i]**2, xs[i]**2)\n",
    "    curr_m /= len(xs)\n",
    "    return curr_m"
   ]
  },
  {
   "cell_type": "code",
   "execution_count": 52,
   "metadata": {},
   "outputs": [
    {
     "data": {
      "text/plain": [
       "0.0026223869181794006"
      ]
     },
     "execution_count": 52,
     "metadata": {},
     "output_type": "execute_result"
    }
   ],
   "source": [
    "beta_int = 1.04063 * 1e-6 * 2**5 #\n",
    "theta_int = np.pi / 4.\n",
    "\n",
    "beta_norm = 0.000793651 * 2 #\n",
    "theta_norm = 2 * np.pi\n",
    "\n",
    "beta_int * theta_int / (beta_norm * theta_norm)"
   ]
  },
  {
   "cell_type": "code",
   "execution_count": 53,
   "metadata": {},
   "outputs": [
    {
     "data": {
      "text/plain": [
       "array([[0.00783938, 0.00261112],\n",
       "       [0.00261112, 0.00772915]])"
      ]
     },
     "execution_count": 53,
     "metadata": {},
     "output_type": "execute_result"
    }
   ],
   "source": [
    "get_A(xs)"
   ]
  },
  {
   "cell_type": "code",
   "execution_count": 50,
   "metadata": {},
   "outputs": [
    {
     "data": {
      "text/plain": [
       "<matplotlib.collections.PathCollection at 0x7fc5802e86d8>"
      ]
     },
     "execution_count": 50,
     "metadata": {},
     "output_type": "execute_result"
    },
    {
     "data": {
      "image/png": "[encoded data removed]",
      "text/plain": [
       "<Figure size 432x288 with 1 Axes>"
      ]
     },
     "metadata": {
      "needs_background": "light"
     },
     "output_type": "display_data"
    }
   ],
   "source": [
    "N = 200000\n",
    "xs = hit_run(N, 5)\n",
    "plt.scatter(xs[:, 0], xs[:, 1])"
   ]
  },
  {
   "cell_type": "code",
   "execution_count": null,
   "metadata": {},
   "outputs": [],
   "source": []
  }
 ],
 "metadata": {
  "kernelspec": {
   "display_name": "Python3 (new_adv)",
   "language": "python",
   "name": "new_adv"
  },
  "language_info": {
   "codemirror_mode": {
    "name": "ipython",
    "version": 3
   },
   "file_extension": ".py",
   "mimetype": "text/x-python",
   "name": "python",
   "nbconvert_exporter": "python",
   "pygments_lexer": "ipython3",
   "version": "3.6.8"
  }
 },
 "nbformat": 4,
 "nbformat_minor": 2
}
