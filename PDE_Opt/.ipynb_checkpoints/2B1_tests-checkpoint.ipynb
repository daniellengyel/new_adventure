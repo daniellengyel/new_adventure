{
 "cells": [
  {
   "cell_type": "code",
   "execution_count": null,
   "metadata": {},
   "outputs": [],
   "source": [
    "from dolfin import *\n",
    "from dolfin_adjoint import *\n",
    "import moola \n",
    "\n",
    "import jax.numpy as jnp\n",
    "import jax\n",
    "import jax.random as jrandom\n",
    "import numpy as np\n",
    "from jax.config import config\n",
    "config.update(\"jax_enable_x64\", True)\n",
    "\n",
    "import time"
   ]
  },
  {
   "cell_type": "code",
   "execution_count": 34,
   "metadata": {},
   "outputs": [],
   "source": [
    "n = 4\n",
    "\n",
    "mesh = UnitSquareMesh(n, n)\n",
    "\n",
    "V = FunctionSpace(mesh, \"CG\", 1)\n",
    "W = FunctionSpace(mesh, \"DG\", 0)\n",
    "\n",
    "f = Function(W)\n",
    "\n",
    "u = Function(V, name='State')\n",
    "v = TestFunction(V)\n",
    "\n",
    "x = SpatialCoordinate(mesh)\n",
    "w = Expression(\"sin(pi*x[0])*sin(pi*x[1])\", degree=3)\n",
    "d = 1 / (2 * pi ** 2)\n",
    "d = Expression(\"d*w\", d=d, w=w, degree=3)\n",
    "\n",
    "def f1(f_np):\n",
    "    \"\"\"Takes a numpy array as input.\"\"\"\n",
    "\n",
    "    # cf = MeshFunction(\"bool\", mesh, mesh.geometric_dimension())\n",
    "    # subdomain = CompiledSubDomain('std::abs(x[0]-0.5) < 0.25 && std::abs(x[1]-0.5) < 0.25')\n",
    "    # subdomain.mark(cf, True)\n",
    "    # mesh = refine(mesh, cf)\n",
    "\n",
    "\n",
    "    \n",
    "    f.vector().set_local(f_np)\n",
    "\n",
    "    \n",
    "\n",
    "\n",
    "    \n",
    "    F = (inner(grad(u), grad(v)) - f * v) * dx\n",
    "    bc = DirichletBC(V, 0.0, \"on_boundary\")\n",
    "    solve(F == 0, u, bc)\n",
    "\n",
    "    \n",
    "\n",
    "    alpha = Constant(1e-6)\n",
    "    J = assemble((0.5 * inner(u - d, u - d)) * dx + alpha / 2 * f ** 2 * dx)\n",
    "    control = Control(f)\n",
    "\n",
    "    rf = ReducedFunctional(J, control)\n",
    "    \n",
    "    return rf.derivative().vector().get_local()\n",
    "\n",
    "\n"
   ]
  },
  {
   "cell_type": "code",
   "execution_count": null,
   "metadata": {},
   "outputs": [],
   "source": [
    "def f2(f_np, direction):\n",
    "    \"\"\"Takes a numpy array as input.\"\"\"\n",
    "\n",
    "    # cf = MeshFunction(\"bool\", mesh, mesh.geometric_dimension())\n",
    "    # subdomain = CompiledSubDomain('std::abs(x[0]-0.5) < 0.25 && std::abs(x[1]-0.5) < 0.25')\n",
    "    # subdomain.mark(cf, True)\n",
    "    # mesh = refine(mesh, cf)\n",
    "\n",
    "\n",
    "    f.vector().set_local(f_np)\n",
    "\n",
    "    \n",
    "    \n",
    "    F = (inner(grad(u), grad(v)) - f * v) * dx\n",
    "    bc = DirichletBC(V, 0.0, \"on_boundary\")\n",
    "    solve(F == 0, u, bc)\n",
    "\n",
    "    \n",
    "\n",
    "    alpha = Constant(1e-6)\n",
    "    J = assemble((0.5 * inner(u - d, u - d)) * dx + alpha / 2 * f ** 2 * dx)\n",
    "    control = Control(f)\n",
    "\n",
    "    rf = ReducedFunctional(J, control)\n",
    "    \n",
    "    direction_func = Function(W)\n",
    "    direction_func.vector().set_local(direction)\n",
    "    rf.derivative()\n",
    "    return rf.hessian(direction_func).vector().get_local()"
   ]
  },
  {
   "cell_type": "code",
   "execution_count": null,
   "metadata": {},
   "outputs": [],
   "source": [
    "def multilevel_beta_newton_update_2B1_1B1(f1, x_0, alpha, N, R, d_prime, jrandom_key):\n",
    "    \"\"\"Makes use of Matrix-Vector Product.\"\"\"\n",
    "    d = len(x_0)\n",
    "\n",
    "    jrandom_key, subkey = jrandom.split(jrandom_key)\n",
    "    U_idxs = jrandom.choice(subkey, a=d, shape=(d_prime,), replace=False)\n",
    "    U = jnp.eye(d)[U_idxs].T # (d, d')\n",
    "\n",
    "    jrandom_key, subkey = jrandom.split(jrandom_key)\n",
    "    sample_points = beta_sampling(x_0, x_0.shape[0], N, alpha, R, subkey, chosen_basis_idx=U_idxs)  \n",
    "    ru = (sample_points - jnp.mean(sample_points, axis=0)).T # (d, N)\n",
    "    \n",
    "    jrandom_key, subkey = jrandom.split(jrandom_key)\n",
    "    out_grads = []\n",
    "    for i in range(N):\n",
    "        out_grads.append(f1(np.array(sample_points[i])))\n",
    "        \n",
    "    out_grads = jnp.array(out_grads)\n",
    "    print(out_grads)\n",
    "    print()\n",
    "    \n",
    "\n",
    "    gradF = f1(x_0)\n",
    "    grad_X_low_inv = jnp.linalg.inv(out_grads.T[U_idxs].dot(ru[U_idxs].T)/float(N))\n",
    "    cov = jnp.cov(sample_points.T)\n",
    "#     print(cov)\n",
    "    return -cov.dot(U.dot(grad_X_low_inv.dot(U.T.dot(gradF))))"
   ]
  },
  {
   "cell_type": "code",
   "execution_count": null,
   "metadata": {},
   "outputs": [],
   "source": [
    "W = FunctionSpace(mesh, \"DG\", 0)\n",
    "\n",
    "f = interpolate(Expression(\"x[0]+x[1]\", name='Control', degree=1), W)\n",
    "\n",
    "\n",
    "x_0 = np.array(f.vector())\n",
    "alpha = 10\n",
    "N = 100 # 8*len(f.vector().get_local())\n",
    "R = 0.1\n",
    "d_prime = len(f.vector().get_local()) # //2\n",
    "jrandom_key = jrandom.PRNGKey(0)\n",
    "\n",
    "start_time = time.time()\n",
    "res = multilevel_beta_newton_update_2B1_1B1(f1, x_0, alpha, N, R, d_prime, jrandom_key)\n",
    "print(time.time() - start_time)"
   ]
  },
  {
   "cell_type": "code",
   "execution_count": 35,
   "metadata": {},
   "outputs": [],
   "source": [
    "def beta_2E1(x_0, alpha, N, R, jrandom_key, control_variate=True):\n",
    "    jrandom_key, subkey = jrandom.split(jrandom_key)\n",
    "    sample_points = beta_sampling(x_0, x_0.shape[0], N, alpha, R, subkey)  \n",
    "    if control_variate: \n",
    "        ru = sample_points - jnp.mean(sample_points, axis=0)\n",
    "    else:\n",
    "        ru = sample_points - x_0\n",
    "    jrandom_key, subkey = jrandom.split(jrandom_key)\n",
    "    \n",
    "    out_grads = []\n",
    "    for i in range(N):\n",
    "        temp = np.array(sample_points[i])\n",
    "        out_grads.append(f1(temp))\n",
    "        \n",
    "    out_grads = jnp.array(out_grads)   \n",
    "    \n",
    "    g_ru = out_grads.T.dot(ru)/float(N)\n",
    "    cov =  jnp.cov(sample_points.T) #\n",
    "    return g_ru.dot(jnp.linalg.inv(cov))"
   ]
  },
  {
   "cell_type": "code",
   "execution_count": 36,
   "metadata": {},
   "outputs": [
    {
     "name": "stdout",
     "output_type": "stream",
     "text": [
      "time est hess 2.986694574356079\n"
     ]
    }
   ],
   "source": [
    "\n",
    "W = FunctionSpace(mesh, \"DG\", 0)\n",
    "\n",
    "f = interpolate(Expression(\"x[0]+x[1]\", name='Control', degree=1), W)\n",
    "\n",
    "\n",
    "x_0 = f.vector().get_local()\n",
    "alpha = 10\n",
    "N = 100 # len(f.vector().get_local())\n",
    "R = 0.1\n",
    "d_prime = len(f.vector().get_local())\n",
    "jrandom_key = jrandom.PRNGKey(0)\n",
    "\n",
    "start_time = time.time()\n",
    "H_est = beta_2E1(x_0, alpha, N, R, jrandom_key, control_variate=True)\n",
    "print(\"time est hess\", time.time() - start_time)\n"
   ]
  },
  {
   "cell_type": "code",
   "execution_count": null,
   "metadata": {},
   "outputs": [],
   "source": [
    "jnp.linalg.inv(jnp.array(H)).dot(f1(x_0))"
   ]
  },
  {
   "cell_type": "code",
   "execution_count": null,
   "metadata": {},
   "outputs": [],
   "source": [
    "H = []\n",
    "\n",
    "U = jnp.eye(len(x_0))\n",
    "start_time = time.time()\n",
    "for i in range(len(x_0)):\n",
    "    H.append(f2(x_0, U[i]))\n",
    "    \n",
    "print(\"get true\", time.time() - start_time)"
   ]
  },
  {
   "cell_type": "code",
   "execution_count": null,
   "metadata": {},
   "outputs": [],
   "source": []
  },
  {
   "cell_type": "code",
   "execution_count": 1,
   "metadata": {},
   "outputs": [],
   "source": [
    "from dolfin import *\n",
    "from dolfin_adjoint import *\n",
    "import moola \n",
    "\n",
    "from moola.adaptors.dolfin_vector import DolfinPrimalVector\n",
    "\n",
    "\n",
    "import jax.numpy as jnp\n",
    "import jax\n",
    "import jax.random as jrandom\n",
    "import numpy as np\n",
    "from jax.config import config\n",
    "config.update(\"jax_enable_x64\", True)\n",
    "\n",
    "import time\n",
    "\n",
    "class BetaApproximations():\n",
    "\n",
    "    '''\n",
    "    This class implements the limit-memory BFGS approximation of the inverse Hessian.\n",
    "    '''\n",
    "    def __init__(self, jrandom_key):\n",
    "        alpha = 10\n",
    "        N = 100\n",
    "        R = 0.1\n",
    "        self.alpha = alpha\n",
    "        self.N = N\n",
    "        self.R = R\n",
    "        self.d_prime = None\n",
    "\n",
    "        self.jrandom_key = jrandom_key\n",
    "\n",
    "\n",
    "    def multi_two_B_one(self, obj, x_0):\n",
    "        \"\"\"Makes use of Matrix-Vector Product.\"\"\"\n",
    "        alpha = self.alpha\n",
    "        N = self.N\n",
    "        R = self.R \n",
    "        d_prime = self.d_prime\n",
    "\n",
    "        x_0_np = x_0.data.vector().get_local()\n",
    "#         x_0_np = x_0.vector().get_local()\n",
    "\n",
    "        f = x_0.copy() # TODO make instance variable? \n",
    "        \n",
    "        d = len(x_0_np)\n",
    "        d_prime = d\n",
    "\n",
    "        jrandom_key, subkey = jrandom.split(self.jrandom_key)\n",
    "        U_idxs = jrandom.choice(subkey, a=d, shape=(d_prime,), replace=False)\n",
    "        U = jnp.eye(d)[U_idxs].T # (d, d')\n",
    "\n",
    "        jrandom_key, subkey = jrandom.split(jrandom_key)\n",
    "        sample_points = beta_sampling(x_0_np, x_0_np.shape[0], N, alpha, R, subkey, chosen_basis_idx=U_idxs)  \n",
    "        ru = (sample_points - jnp.mean(sample_points, axis=0)).T # (d, N)\n",
    "        \n",
    "        jrandom_key, subkey = jrandom.split(jrandom_key)\n",
    "        out_grads = []\n",
    "        # parallel ? \n",
    "        curr_f = Function(x_0.data.function_space())\n",
    "        curr_f = moola.DolfinPrimalVector(curr_f)\n",
    "\n",
    "        for i in range(N):\n",
    "            f.data.vector().set_local(np.array(sample_points[i]))\n",
    "            curr_f.assign(f) # there is an issue with hashing if i assign directly to f. Weird stuff. \n",
    "            obj(curr_f)            \n",
    "            out_grads.append(obj.derivative(curr_f).data.vector().get_local())\n",
    "            \n",
    "        out_grads = jnp.array(out_grads)\n",
    "\n",
    "        gradF = jnp.array(obj.derivative(x_0).data.vector().get_local())\n",
    "\n",
    "        grad_X_low_inv = jnp.linalg.inv(out_grads.T[U_idxs].dot(ru[U_idxs].T)/float(N))\n",
    "        cov = jnp.cov(sample_points.T)\n",
    "\n",
    "        self.jrandom_key = jrandom_key\n",
    "\n",
    "        update_dir_np = -cov.dot(U.dot(grad_X_low_inv.dot(U.T.dot(gradF))))\n",
    "        update_dir = Function(x_0.data.function_space())\n",
    "        update_dir.vector().set_local(update_dir_np)\n",
    "        return DolfinPrimalVector(update_dir)\n",
    "\n",
    "def beta_sampling(x_0, dim, N, alpha, radius, new_jrandom_key, chosen_basis_idx=None):\n",
    "    new_jrandom_key, subkey = jrandom.split(new_jrandom_key)\n",
    "    # sample gaussian and normalize \n",
    "    if chosen_basis_idx is None:\n",
    "        dirs = jrandom.normal(subkey, shape=(N, dim)) \n",
    "    else:\n",
    "        dirs = jrandom.normal(subkey, shape=(N, len(chosen_basis_idx)))\n",
    "        temp_dirs = jnp.zeros((dim, N))\n",
    "        temp_dirs = jax.ops.index_update(temp_dirs, chosen_basis_idx, dirs.T)\n",
    "        dirs = temp_dirs.T\n",
    "\n",
    "    dirs = dirs/jnp.linalg.norm(dirs, axis=1).reshape(-1, 1)\n",
    "\n",
    "    new_jrandom_key, subkey = jrandom.split(new_jrandom_key)\n",
    "    beta_p = (jrandom.beta(subkey, alpha, alpha, shape=(N, 1)) - 0.5) * 2 * radius \n",
    "\n",
    "    res = []\n",
    "    res += dirs * beta_p\n",
    "\n",
    "    return x_0 + jnp.array(res)"
   ]
  },
  {
   "cell_type": "code",
   "execution_count": 2,
   "metadata": {},
   "outputs": [
    {
     "name": "stderr",
     "output_type": "stream",
     "text": [
      "WARNING:absl:No GPU/TPU found, falling back to CPU. (Set TF_CPP_MIN_LOG_LEVEL=0 and rerun for more info.)\n"
     ]
    },
    {
     "name": "stdout",
     "output_type": "stream",
     "text": [
      "time 5.143530368804932\n"
     ]
    }
   ],
   "source": [
    "n = 4\n",
    "mesh = UnitSquareMesh(n, n)\n",
    "\n",
    "V = FunctionSpace(mesh, \"CG\", 1)\n",
    "W = FunctionSpace(mesh, \"DG\", 0)\n",
    "\n",
    "f = interpolate(Expression(\"x[0]+x[1]\", name='Control', degree=1), W)\n",
    "u = Function(V, name='State')\n",
    "v = TestFunction(V)\n",
    "\n",
    "F = (inner(grad(u), grad(v)) - f * v) * dx\n",
    "bc = DirichletBC(V, 0.0, \"on_boundary\")\n",
    "solve(F == 0, u, bc)\n",
    "\n",
    "\n",
    "x = SpatialCoordinate(mesh)\n",
    "w = Expression(\"sin(pi*x[0])*sin(pi*x[1])\", degree=3)\n",
    "d = 1 / (2 * pi ** 2)\n",
    "d = Expression(\"d*w\", d=d, w=w, degree=3)\n",
    "\n",
    "alpha = Constant(1e-6)\n",
    "J = assemble((0.5 * inner(u - d, u - d)) * dx + alpha / 2 * f ** 2 * dx)\n",
    "control = Control(f)\n",
    "\n",
    "\n",
    "rf = ReducedFunctional(J, control)\n",
    "\n",
    "\n",
    "problem = MoolaOptimizationProblem(rf)\n",
    "f_moola = moola.DolfinPrimalVector(f)\n",
    "\n",
    "\n",
    "BA = BetaApproximations(jrandom.PRNGKey(0))\n",
    "start_time = time.time()\n",
    "# res = BA.multi_two_B_one(rf, f)\n",
    "res = BA.multi_two_B_one(problem.obj, f_moola)\n",
    "\n",
    "print(\"time\", time.time() - start_time)\n"
   ]
  },
  {
   "cell_type": "code",
   "execution_count": 5,
   "metadata": {},
   "outputs": [
    {
     "data": {
      "text/plain": [
       "array([-0.30166127, -0.29917819, -0.2746284 , -0.31940874, -0.24310204,\n",
       "       -0.0057808 , -1.01043119, -0.49620249, -0.31701142, -0.26429647,\n",
       "        0.23372132,  0.24267653, -0.03265319,  0.26577341, -0.74947903,\n",
       "       -0.52948927, -0.01439345, -0.23969558,  0.27276698, -0.01738293,\n",
       "       -0.26765003, -0.26068044, -1.27390548, -1.33091054, -0.49705388,\n",
       "       -1.01470235, -0.51571138, -0.75715749, -1.32440965, -1.27652431,\n",
       "       -1.81784233, -1.8029376 ])"
      ]
     },
     "execution_count": 5,
     "metadata": {},
     "output_type": "execute_result"
    }
   ],
   "source": [
    "res.data.vector().get_local()"
   ]
  },
  {
   "cell_type": "code",
   "execution_count": 11,
   "metadata": {},
   "outputs": [],
   "source": [
    "true_dir = np.array([ 0.2952727 ,  0.2952727 ,  0.26725353,  0.31252623,\n",
    "              0.24504388,  0.01229741,  1.        ,  0.49504388,\n",
    "              0.31252623,  0.26725353, -0.24167915, -0.24167915,\n",
    "              0.02955094, -0.26969832,  0.74504388,  0.51229741,\n",
    "              0.01229741,  0.24504388, -0.26969832,  0.02955094,\n",
    "              0.25832085,  0.25832085,  1.26725353,  1.31252623,\n",
    "              0.49504388,  1.        ,  0.51229741,  0.74504388,\n",
    "              1.31252623,  1.26725353,  1.7952727 ,  1.7952727 ])"
   ]
  },
  {
   "cell_type": "code",
   "execution_count": 26,
   "metadata": {},
   "outputs": [
    {
     "data": {
      "text/plain": [
       "array([ 0.02163618,  0.01322672,  0.02759504,  0.02202219, -0.00792448,\n",
       "       -0.5299175 ,  0.01043119,  0.00234042,  0.0143514 , -0.01106464,\n",
       "       -0.03292726,  0.00412686,  0.10497961, -0.01455297,  0.00595287,\n",
       "        0.03355836,  0.170446  , -0.0218259 ,  0.01137811, -0.41176383,\n",
       "        0.0361147 ,  0.00913434,  0.00524911,  0.01400681,  0.00406024,\n",
       "        0.01470235,  0.00666405,  0.01625892,  0.00905385,  0.00731565,\n",
       "        0.0125717 ,  0.00426949])"
      ]
     },
     "execution_count": 26,
     "metadata": {},
     "output_type": "execute_result"
    }
   ],
   "source": [
    "(-res.vector().get_local() - true_dir)/true_dir"
   ]
  },
  {
   "cell_type": "code",
   "execution_count": 12,
   "metadata": {},
   "outputs": [
    {
     "name": "stdout",
     "output_type": "stream",
     "text": [
      "0.00015091896057128906\n",
      "0.08802056312561035\n"
     ]
    }
   ],
   "source": [
    "start_time= time.time()\n",
    "# curr_f = Function(f_moola.data.function_space())\n",
    "\n",
    "f.vector().set_local(true_dir)\n",
    "\n",
    "# curr_f = moola.DolfinPrimalVector(curr_f)\n",
    "print(time.time() - start_time)\n",
    "start_time = time.time()\n",
    "rf(f)\n",
    "\n",
    "rf.derivative().vector().get_local()\n",
    "print(time.time() - start_time)"
   ]
  },
  {
   "cell_type": "code",
   "execution_count": null,
   "metadata": {},
   "outputs": [],
   "source": []
  }
 ],
 "metadata": {
  "kernelspec": {
   "display_name": "Python 3",
   "language": "python",
   "name": "python3"
  },
  "language_info": {
   "codemirror_mode": {
    "name": "ipython",
    "version": 3
   },
   "file_extension": ".py",
   "mimetype": "text/x-python",
   "name": "python",
   "nbconvert_exporter": "python",
   "pygments_lexer": "ipython3",
   "version": "3.6.9"
  }
 },
 "nbformat": 4,
 "nbformat_minor": 4
}
